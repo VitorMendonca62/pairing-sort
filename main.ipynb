{
 "cells": [
  {
   "cell_type": "markdown",
   "metadata": {},
   "source": [
    "# Pairing Sort\n",
    "\n",
    "### O que é?\n",
    "Este é um algoritmo de ordenação que inventei, não tenho certeza se ele já existe, mas que eu criei tudo do fruto do meu cérebro.\n",
    "\n",
    "### Como funciona?\n",
    "Vamos seguir esse passo a passo:\n",
    "\n",
    "1. Se o número de números for par, ele vai separar em pares do começo da lista até o final, caso for ímpar, ainda irá separar em pares, mas vai deixar o último elemento de fora. Assim, ele irá comparar cada elemento dos pares, se o número a esquerda no par for maior que o da direita, então trocamos os números, caso não for, deixamos como está, com isso, vamos fazer com todos os pares.\n",
    "\n",
    "2. Vamos fazer algo parecido com o passo 1, porém, ao invés de começar do primeiro elemento, vamos começar do segundo, assim, façamos os pares e as comparações\n",
    "\n",
    "3. Repetimos os passos 1 e 2 até que a lista esteja ordenada.\n",
    "\n",
    "### Ilustração:\n",
    "![ilustracao](assets/ilustration.png)\n",
    "\n",
    "### Qual a complexidade?\n",
    "Talvez eu mude esse texto mais para frente, por n motivos, mas acredito que:\n",
    "- Comparações:\n",
    "  - Melhor: O(n)\n",
    "  - Médio: Não faço ideia\n",
    "  - Pior: O(n * (n / 2))\n",
    "- Movimentações: Não faço ideia\n",
    "- Espaço: O(1)\n",
    "\n",
    "Provavelmente vou estudar mais afundo nisso de complexidade e irei mudar no futuro.\n",
    "\n",
    "### Código sugerido:\n",
    "```python\n",
    "def pairing_sort(data):\n",
    "  change = True\n",
    "  while change:\n",
    "    change = False\n",
    "    for i in range(0, len(data) - 1, 2):\n",
    "      if data[i] > data[i+1]:\n",
    "        data[i], data[i+1]= data[i+1], data[i]\n",
    "        change = True\n",
    "\n",
    "    for j in range(1, len(data) - 1, 2):\n",
    "      if data[j] > data[j+1]:\n",
    "        data[j], data[j+1]= data[j+1], data[j]\n",
    "        change = True\n",
    "\n",
    "  return data\n",
    "```\n",
    "\n",
    "Agora, vamos a comparação com outros tipos de algoritmos de ordenação:"
   ]
  },
  {
   "cell_type": "markdown",
   "metadata": {},
   "source": [
    "Primeiramente, vamos instalar algumas instanciar algumas biblioteca para nos auxiliar."
   ]
  },
  {
   "cell_type": "code",
   "execution_count": 5,
   "metadata": {},
   "outputs": [],
   "source": [
    "import time # Medir o tempo da função\n",
    "import random # Gerar numeros aleatorios\n",
    "from algorithms.sort import * # Algoritmos de ordenação para não fazer na mão :)"
   ]
  },
  {
   "cell_type": "markdown",
   "metadata": {},
   "source": [
    "Agora vamos instanciar nossa função de ordenação."
   ]
  },
  {
   "cell_type": "code",
   "execution_count": 4,
   "metadata": {},
   "outputs": [],
   "source": [
    "def pairing_sort(data):\n",
    "  change = True\n",
    "  while change:\n",
    "    change = False\n",
    "    for i in range(0, len(data) - 1, 2):\n",
    "      if data[i] > data[i+1]:\n",
    "        data[i], data[i+1]= data[i+1], data[i]\n",
    "        change = True\n",
    "\n",
    "    for j in range(1, len(data) - 1, 2):\n",
    "      if data[j] > data[j+1]:\n",
    "        data[j], data[j+1]= data[j+1], data[j]\n",
    "        change = True\n",
    "  \n",
    "  return data\n"
   ]
  },
  {
   "cell_type": "markdown",
   "metadata": {},
   "source": [
    "Agora uma função para fazer comparações:"
   ]
  },
  {
   "cell_type": "code",
   "execution_count": 3,
   "metadata": {},
   "outputs": [],
   "source": [
    "def comparation(me_time, orther_time):\n",
    "  print(\"Difference:\", abs(me_time - orther_time))\n",
    "  if me_time > orther_time:\n",
    "    ratio = orther_time / me_time\n",
    "  else: \n",
    "    ratio = me_time / orther_time\n",
    "    \n",
    "  print(\"Ratio\", ratio)"
   ]
  },
  {
   "cell_type": "markdown",
   "metadata": {},
   "source": [
    "E também uma função para gerar os tempos:"
   ]
  },
  {
   "cell_type": "code",
   "execution_count": 2,
   "metadata": {},
   "outputs": [],
   "source": [
    "def take_time(func, data):\n",
    "  start = time.time()\n",
    "  func(data.copy())\n",
    "  end = time.time()\n",
    "  return end - start"
   ]
  },
  {
   "cell_type": "markdown",
   "metadata": {},
   "source": [
    "Iremos pegar 10.000 números aleatórios."
   ]
  },
  {
   "cell_type": "code",
   "execution_count": 7,
   "metadata": {},
   "outputs": [],
   "source": [
    "data = random.sample(range(1, 10001), 10000)"
   ]
  },
  {
   "cell_type": "markdown",
   "metadata": {},
   "source": [
    "Agora, vamos gerar a lista ordenada com o pairing sort e verificar seu tempo de execução."
   ]
  },
  {
   "cell_type": "code",
   "execution_count": 9,
   "metadata": {},
   "outputs": [
    {
     "name": "stdout",
     "output_type": "stream",
     "text": [
      "8.802030563354492 seconds\n"
     ]
    }
   ],
   "source": [
    "me_execution_time = take_time(pairing_sort, data)\n",
    "\n",
    "print(me_execution_time, \"seconds\")"
   ]
  },
  {
   "cell_type": "markdown",
   "metadata": {},
   "source": [
    "Agora com o bubblesort"
   ]
  },
  {
   "cell_type": "code",
   "execution_count": 10,
   "metadata": {},
   "outputs": [
    {
     "name": "stdout",
     "output_type": "stream",
     "text": [
      "10.969234943389893 seconds\n",
      "Difference: 2.1672043800354004\n",
      "Ratio 0.802428848390984\n"
     ]
    }
   ],
   "source": [
    "orther_execution_time = take_time(bubble_sort, data)\n",
    "\n",
    "print(orther_execution_time, \"seconds\")\n",
    "comparation(me_execution_time, orther_execution_time)\n"
   ]
  },
  {
   "cell_type": "markdown",
   "metadata": {},
   "source": [
    "No caso do Bubblesort é uma média de 20% mais rápido"
   ]
  },
  {
   "cell_type": "markdown",
   "metadata": {},
   "source": [
    "SelectionSort"
   ]
  },
  {
   "cell_type": "code",
   "execution_count": 11,
   "metadata": {},
   "outputs": [
    {
     "name": "stdout",
     "output_type": "stream",
     "text": [
      "3.6184120178222656 seconds\n",
      "Difference: 5.183618545532227\n",
      "Ratio 0.4110883269238812\n"
     ]
    }
   ],
   "source": [
    "orther_execution_time = take_time(selection_sort, data)\n",
    "\n",
    "print(orther_execution_time, \"seconds\")\n",
    "comparation(me_execution_time, orther_execution_time)\n"
   ]
  },
  {
   "cell_type": "markdown",
   "metadata": {},
   "source": [
    "Nesse caso de 10.000 elementos, o pairingsort é 60% mais lento que o selectionsort"
   ]
  },
  {
   "cell_type": "markdown",
   "metadata": {},
   "source": [
    "Insertionsort"
   ]
  },
  {
   "cell_type": "code",
   "execution_count": 12,
   "metadata": {},
   "outputs": [
    {
     "name": "stdout",
     "output_type": "stream",
     "text": [
      "5.2040934562683105 seconds\n",
      "Difference: 3.5979371070861816\n",
      "Ratio 0.5912378307267554\n"
     ]
    }
   ],
   "source": [
    "orther_execution_time = take_time(insertion_sort, data)\n",
    "\n",
    "print(orther_execution_time, \"seconds\")\n",
    "comparation(me_execution_time, orther_execution_time)"
   ]
  },
  {
   "cell_type": "markdown",
   "metadata": {},
   "source": [
    "O pairingsort é 40% mais lento que o selectionsort"
   ]
  },
  {
   "cell_type": "markdown",
   "metadata": {},
   "source": [
    "Mergesort"
   ]
  },
  {
   "cell_type": "code",
   "execution_count": 13,
   "metadata": {},
   "outputs": [
    {
     "name": "stdout",
     "output_type": "stream",
     "text": [
      "0.04300236701965332 seconds\n",
      "Difference: 8.759028196334839\n",
      "Ratio 0.0048855053058648925\n"
     ]
    }
   ],
   "source": [
    "orther_execution_time = take_time(merge_sort, data)\n",
    "\n",
    "print(orther_execution_time, \"seconds\")\n",
    "comparation(me_execution_time, orther_execution_time)"
   ]
  },
  {
   "cell_type": "markdown",
   "metadata": {},
   "source": [
    "O pairingsort é 99.50% mais lento que o mergesort. (Aqui não tem como brincar muito)"
   ]
  },
  {
   "cell_type": "markdown",
   "metadata": {},
   "source": [
    "Quicksort"
   ]
  },
  {
   "cell_type": "code",
   "execution_count": 14,
   "metadata": {},
   "outputs": [
    {
     "name": "stdout",
     "output_type": "stream",
     "text": [
      "0.025997400283813477 seconds\n",
      "Difference: 8.776033163070679\n",
      "Ratio 0.0029535685086176018\n"
     ]
    }
   ],
   "source": [
    "orther_execution_time = take_time(quick_sort, data)\n",
    "\n",
    "print(orther_execution_time, \"seconds\")\n",
    "comparation(me_execution_time, orther_execution_time)"
   ]
  },
  {
   "cell_type": "markdown",
   "metadata": {},
   "source": [
    "O pairingsort é 99.60% mais lento que o quicksort."
   ]
  },
  {
   "cell_type": "markdown",
   "metadata": {},
   "source": [
    "Shellsort"
   ]
  },
  {
   "cell_type": "code",
   "execution_count": 15,
   "metadata": {},
   "outputs": [
    {
     "name": "stdout",
     "output_type": "stream",
     "text": [
      "0.06600260734558105 seconds\n",
      "Difference: 8.736027956008911\n",
      "Ratio 0.007498566026385981\n"
     ]
    }
   ],
   "source": [
    "orther_execution_time = take_time(shell_sort, data)\n",
    "\n",
    "print(orther_execution_time, \"seconds\")\n",
    "comparation(me_execution_time, orther_execution_time)"
   ]
  },
  {
   "cell_type": "markdown",
   "metadata": {},
   "source": [
    "O pairingsort é 99.30% mais lento que o shellsort."
   ]
  },
  {
   "cell_type": "markdown",
   "metadata": {},
   "source": [
    "### Conclusão:\n",
    "\n",
    "Mesmo o meu algoritmo sendo apenas mais rápido que o pior algoritmo, em tempo de execução, eu gostei bastante do resultado (principalmente porquê criei isso enquanto estava tentando dormir), além de que, gostei bastanta de fazer isso, comparar com outros algoritmos, ver como eu poderia melhorar o meu algoritmo e etc, foi uma experiência enriquecedora, principalmente porque estou iniciando minha carreira agora nessa área, e provavelmente vou demorar mais para dormir tentando pensar em algum outro ou tentando melhorar esse."
   ]
  }
 ],
 "metadata": {
  "kernelspec": {
   "display_name": "Python 3",
   "language": "python",
   "name": "python3"
  },
  "language_info": {
   "codemirror_mode": {
    "name": "ipython",
    "version": 3
   },
   "file_extension": ".py",
   "mimetype": "text/x-python",
   "name": "python",
   "nbconvert_exporter": "python",
   "pygments_lexer": "ipython3",
   "version": "3.12.2"
  }
 },
 "nbformat": 4,
 "nbformat_minor": 2
}
